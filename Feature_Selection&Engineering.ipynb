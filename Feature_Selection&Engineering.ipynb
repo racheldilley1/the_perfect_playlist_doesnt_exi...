{
 "cells": [
  {
   "cell_type": "code",
   "execution_count": 2,
   "id": "current-depth",
   "metadata": {},
   "outputs": [],
   "source": [
    "import pandas as pd "
   ]
  },
  {
   "cell_type": "markdown",
   "id": "collective-tennessee",
   "metadata": {},
   "source": [
    "Read CSV"
   ]
  },
  {
   "cell_type": "code",
   "execution_count": 7,
   "id": "direct-welsh",
   "metadata": {},
   "outputs": [],
   "source": [
    "df = pd.read_csv('user_tracks.csv')"
   ]
  },
  {
   "cell_type": "markdown",
   "id": "talented-brave",
   "metadata": {},
   "source": [
    "Clean data"
   ]
  },
  {
   "cell_type": "code",
   "execution_count": 20,
   "id": "failing-attention",
   "metadata": {},
   "outputs": [],
   "source": [
    "df = df.drop_duplicates('track_id')\n",
    "\n",
    "#split for model creation testing\n",
    "split = int(len(df)/2)\n",
    "df1 = df.iloc[ : split]\n",
    "df2 = df.iloc[ split :]"
   ]
  },
  {
   "cell_type": "code",
   "execution_count": 23,
   "id": "wired-stocks",
   "metadata": {},
   "outputs": [
    {
     "data": {
      "text/html": [
       "<div>\n",
       "<style scoped>\n",
       "    .dataframe tbody tr th:only-of-type {\n",
       "        vertical-align: middle;\n",
       "    }\n",
       "\n",
       "    .dataframe tbody tr th {\n",
       "        vertical-align: top;\n",
       "    }\n",
       "\n",
       "    .dataframe thead th {\n",
       "        text-align: right;\n",
       "    }\n",
       "</style>\n",
       "<table border=\"1\" class=\"dataframe\">\n",
       "  <thead>\n",
       "    <tr style=\"text-align: right;\">\n",
       "      <th></th>\n",
       "      <th>Unnamed: 0</th>\n",
       "      <th>name</th>\n",
       "      <th>track_id</th>\n",
       "      <th>artists</th>\n",
       "      <th>album_name</th>\n",
       "      <th>date_added</th>\n",
       "      <th>images</th>\n",
       "    </tr>\n",
       "  </thead>\n",
       "  <tbody>\n",
       "    <tr>\n",
       "      <th>0</th>\n",
       "      <td>0</td>\n",
       "      <td>Beach Baby</td>\n",
       "      <td>7oRNU7Tmek0nm2lqyDojoG</td>\n",
       "      <td>['Bon Iver']</td>\n",
       "      <td>Blood Bank</td>\n",
       "      <td>2021-10-13T15:19:25Z</td>\n",
       "      <td>['https://i.scdn.co/image/ab67616d0000b273a069...</td>\n",
       "    </tr>\n",
       "    <tr>\n",
       "      <th>1</th>\n",
       "      <td>1</td>\n",
       "      <td>Free</td>\n",
       "      <td>4b57xU7rviFrRgilxMjDJb</td>\n",
       "      <td>['Sylvan Esso']</td>\n",
       "      <td>Free Love</td>\n",
       "      <td>2021-10-13T15:20:15Z</td>\n",
       "      <td>['https://i.scdn.co/image/ab67616d0000b273bffb...</td>\n",
       "    </tr>\n",
       "    <tr>\n",
       "      <th>2</th>\n",
       "      <td>2</td>\n",
       "      <td>Us and Them</td>\n",
       "      <td>1TKTiKp3zbNgrBH2IwSwIx</td>\n",
       "      <td>['Pink Floyd']</td>\n",
       "      <td>The Dark Side of the Moon</td>\n",
       "      <td>2021-10-13T15:20:56Z</td>\n",
       "      <td>['https://i.scdn.co/image/ab67616d0000b273ea7c...</td>\n",
       "    </tr>\n",
       "    <tr>\n",
       "      <th>3</th>\n",
       "      <td>3</td>\n",
       "      <td>Lotus Blossom</td>\n",
       "      <td>33p7jMh4ThQdZ3fe6scpfI</td>\n",
       "      <td>['Michael Franks']</td>\n",
       "      <td>One Bad Habit</td>\n",
       "      <td>2021-10-13T15:21:56Z</td>\n",
       "      <td>['https://i.scdn.co/image/ab67616d0000b273f4c0...</td>\n",
       "    </tr>\n",
       "    <tr>\n",
       "      <th>4</th>\n",
       "      <td>4</td>\n",
       "      <td>Wait</td>\n",
       "      <td>3rTnGUeDrnZV22DvRuUuXr</td>\n",
       "      <td>['M83']</td>\n",
       "      <td>Hurry Up, We're Dreaming</td>\n",
       "      <td>2021-10-13T15:23:07Z</td>\n",
       "      <td>['https://i.scdn.co/image/ab67616d0000b273fff2...</td>\n",
       "    </tr>\n",
       "  </tbody>\n",
       "</table>\n",
       "</div>"
      ],
      "text/plain": [
       "   Unnamed: 0           name                track_id             artists  \\\n",
       "0           0     Beach Baby  7oRNU7Tmek0nm2lqyDojoG        ['Bon Iver']   \n",
       "1           1           Free  4b57xU7rviFrRgilxMjDJb     ['Sylvan Esso']   \n",
       "2           2    Us and Them  1TKTiKp3zbNgrBH2IwSwIx      ['Pink Floyd']   \n",
       "3           3  Lotus Blossom  33p7jMh4ThQdZ3fe6scpfI  ['Michael Franks']   \n",
       "4           4           Wait  3rTnGUeDrnZV22DvRuUuXr             ['M83']   \n",
       "\n",
       "                  album_name            date_added  \\\n",
       "0                 Blood Bank  2021-10-13T15:19:25Z   \n",
       "1                  Free Love  2021-10-13T15:20:15Z   \n",
       "2  The Dark Side of the Moon  2021-10-13T15:20:56Z   \n",
       "3              One Bad Habit  2021-10-13T15:21:56Z   \n",
       "4   Hurry Up, We're Dreaming  2021-10-13T15:23:07Z   \n",
       "\n",
       "                                              images  \n",
       "0  ['https://i.scdn.co/image/ab67616d0000b273a069...  \n",
       "1  ['https://i.scdn.co/image/ab67616d0000b273bffb...  \n",
       "2  ['https://i.scdn.co/image/ab67616d0000b273ea7c...  \n",
       "3  ['https://i.scdn.co/image/ab67616d0000b273f4c0...  \n",
       "4  ['https://i.scdn.co/image/ab67616d0000b273fff2...  "
      ]
     },
     "execution_count": 23,
     "metadata": {},
     "output_type": "execute_result"
    }
   ],
   "source": [
    "df1.head()"
   ]
  },
  {
   "cell_type": "code",
   "execution_count": null,
   "id": "magnetic-holiday",
   "metadata": {},
   "outputs": [],
   "source": []
  }
 ],
 "metadata": {
  "kernelspec": {
   "display_name": "Python 3",
   "language": "python",
   "name": "python3"
  },
  "language_info": {
   "codemirror_mode": {
    "name": "ipython",
    "version": 3
   },
   "file_extension": ".py",
   "mimetype": "text/x-python",
   "name": "python",
   "nbconvert_exporter": "python",
   "pygments_lexer": "ipython3",
   "version": "3.8.5"
  }
 },
 "nbformat": 4,
 "nbformat_minor": 5
}
