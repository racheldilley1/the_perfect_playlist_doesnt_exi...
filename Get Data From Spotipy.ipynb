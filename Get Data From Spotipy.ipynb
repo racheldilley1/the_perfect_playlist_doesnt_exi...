{
 "cells": [
  {
   "cell_type": "code",
   "execution_count": 27,
   "id": "convertible-monitor",
   "metadata": {},
   "outputs": [],
   "source": [
    "#get data\n",
    "import spotipy\n",
    "from spotipy.oauth2 import SpotifyOAuth, SpotifyClientCredentials\n",
    "from spotipy import util\n",
    "\n",
    "#analytics\n",
    "import pandas as pd\n",
    "\n",
    "import sys"
   ]
  },
  {
   "cell_type": "code",
   "execution_count": 34,
   "id": "lovely-dutch",
   "metadata": {},
   "outputs": [],
   "source": [
    "client_id = '759349ca4662426990ede422e2a1efdb' #Need to create developer profile\n",
    "client_secret = 'b59771d6de47460babce1ce563df31ed'\n",
    "username = 'rldilley-us' #Store username\n",
    "redirect_uri='http://localhost:8080/'\n",
    "client_credentials_manager = SpotifyClientCredentials(client_id=client_id, client_secret=client_secret)#Create manager for ease\n",
    "sp = spotipy.Spotify(client_credentials_manager=client_credentials_manager)"
   ]
  },
  {
   "cell_type": "markdown",
   "id": "pregnant-current",
   "metadata": {},
   "source": [
    "### Get Data"
   ]
  },
  {
   "cell_type": "code",
   "execution_count": 29,
   "id": "meaningful-perspective",
   "metadata": {
    "scrolled": true
   },
   "outputs": [],
   "source": [
    "def get_all_tracks_and_features(username, sp):\n",
    "    '''\n",
    "    return df of all track info and features of all user liked songs and playlist songs\n",
    "    '''\n",
    "    \n",
    "    playlist_tracks_df = get_all_tracks_from_all_user_playlists(username, sp) #get all playlist tracks info df\n",
    "    \n",
    "    track_features_df = get_all_tracks_features(playlist_tracks_df)\n",
    "    \n",
    "    df_all_tracks = pd.merge(playlist_tracks_df, track_features_df,  how='left', left_on=['name','track_id'], right_on = ['name','id'])\n",
    "    \n",
    "    return df_all_tracks\n",
    "\n",
    "def get_all_tracks_from_all_user_playlists(username, sp):\n",
    "    '''\n",
    "    return a df of all track info from all user playlists\n",
    "    '''\n",
    "    \n",
    "    playlist_dict = get_all_user_playlists(username,sp) #get a dict of all playlist names and playlist ids\n",
    "    \n",
    "    #create dataframe for all playlist track info\n",
    "    cols = ['name', 'track_id', 'artists', 'album_name', 'date_added', 'images']\n",
    "    all_tracks_df = pd.DataFrame( columns = cols)\n",
    "    for name,trackid in playlist_dict.items(): #loop through all playlists\n",
    "        \n",
    "        #get df of all tracks in a playlist and add to playlist track info df\n",
    "        songs = get_all_tracks_from_playlist(playlist_id,username, sp)\n",
    "        playlist_tracks_df = get_tracks_info_df(songs, username, sp)\n",
    "        all_tracks_df = pd.concat([all_tracks_df, playlist_tracks_df])\n",
    "    \n",
    "    return all_tracks_df\n",
    "        \n",
    "def get_all_user_playlists(username, sp):\n",
    "    '''\n",
    "    return a playlist dictionary with key, playlist name and value, playlist id\n",
    "    '''\n",
    "    \n",
    "    playlists = sp.user_playlists(username) #call api to get all user playlists\n",
    "    playlist_dict = {}\n",
    "    for playlist in playlists['items']:\n",
    "        playlist_dict[playlist['name']] = playlist['id']\n",
    "    \n",
    "    return playlist_dict\n",
    "\n",
    "def get_all_tracks_from_playlist(playlist_id, username, sp):\n",
    "    '''\n",
    "    return list of tracks from a playlist\n",
    "    '''\n",
    "\n",
    "    playlist = sp.user_playlist_tracks(username,playlist_id) #call api to get all tracks in a playlist\n",
    "\n",
    "    #Extract list of songs/tracks\n",
    "    tracks = playlist[\"items\"]\n",
    "    while playlist['next']:\n",
    "        playlist = sp.next(playlist)\n",
    "        tracks.extend(playlist['items'])\n",
    "    \n",
    "    return tracks\n",
    "\n",
    "def get_tracks_info_df(tracks_lst, username, sp):\n",
    "    '''\n",
    "    input list of tracks and return df of all tracks info\n",
    "    '''\n",
    "    \n",
    "    #create tracks info df and loop through all tracks and append to track info df\n",
    "    cols = ['name', 'track_id', 'artists', 'album_name', 'date_added', 'images']\n",
    "    tracks_info_df = pd.DataFrame( columns = cols)\n",
    "    for i in range(0, len(songs)):\n",
    "        \n",
    "        name =  songs[i]['track']['name']\n",
    "        trackid = songs[i]['track']['id']\n",
    "\n",
    "        artists = []\n",
    "        for x in songs[i]['track']['artists']:\n",
    "            artists.append(x['name'])\n",
    "\n",
    "        imgs = []\n",
    "        for y in songs[i]['track']['album']['images']:\n",
    "            imgs.append(y['url'])\n",
    "\n",
    "        tracks_info_df = tracks_info_df.append({'name': name, 'track_id': trackid, 'artists': artists, 'album_name': songs[i]['track']['album']['name'], \n",
    "                                      'date_added': songs[i]['added_at'], 'images':imgs}\n",
    "                                       , ignore_index = True)\n",
    "    return tracks_info_df\n",
    "\n",
    "def get_all_user_liked_tracks(username, sp):\n",
    "    songs = sp.current_user_saved_tracks()\n",
    "    liked_songs = songs[\"items\"]\n",
    "\n",
    "    while liked_songs['next']:\n",
    "        songs = sp.next(songs)\n",
    "        liked_songs.extend(songs['items'])\n",
    "    \n",
    "    return liked_songs\n",
    "\n",
    "def get_all_tracks_features(df):\n",
    "    \n",
    "    #create feature df\n",
    "    cols = ['name', 'id', 'danceability', 'energy', 'key', 'loudness', 'mode', 'speechiness', 'acousticness', 'instrumentalness',\n",
    "        'liveness', 'valence', 'tempo', 'duration_ms', 'time_signature']\n",
    "    features_df = pd.DataFrame(columns = cols)\n",
    "    \n",
    "    for index, row in df.iterrows():\n",
    "        track_id = row['track_id']\n",
    "        features = sp.audio_features(track_id) #call api\n",
    "        audio_features = features[0]\n",
    "        features_df = features_df.append({'name': row['name'], 'id': track_id, 'danceability': audio_features['danceability'], 'energy': \n",
    "                                         audio_features['energy'], 'key': audio_features['key'], 'loudness': audio_features['loudness']\n",
    "                                         , 'mode': audio_features['mode'], 'speechiness': audio_features['speechiness'], 'acousticness':\n",
    "                                         audio_features['acousticness'], 'instrumentalness':audio_features['instrumentalness'] \n",
    "                                         ,'liveness': audio_features['liveness'], 'valence': audio_features['valence'], 'tempo':\n",
    "                                         audio_features['tempo'], 'duration_ms': audio_features['duration_ms'], 'time_signature': \n",
    "                                         audio_features['time_signature']}\n",
    "                                        , ignore_index = True)\n",
    "    \n",
    "    return features_df\n"
   ]
  },
  {
   "cell_type": "code",
   "execution_count": 30,
   "id": "standard-accessory",
   "metadata": {},
   "outputs": [
    {
     "ename": "NameError",
     "evalue": "name 'playlist_id' is not defined",
     "output_type": "error",
     "traceback": [
      "\u001b[0;31m---------------------------------------------------------------------------\u001b[0m",
      "\u001b[0;31mNameError\u001b[0m                                 Traceback (most recent call last)",
      "\u001b[0;32m<ipython-input-30-ba398e82e763>\u001b[0m in \u001b[0;36m<module>\u001b[0;34m\u001b[0m\n\u001b[0;32m----> 1\u001b[0;31m \u001b[0mdf\u001b[0m \u001b[0;34m=\u001b[0m \u001b[0mget_all_tracks_from_all_user_playlists\u001b[0m\u001b[0;34m(\u001b[0m\u001b[0musername\u001b[0m\u001b[0;34m,\u001b[0m \u001b[0msp\u001b[0m\u001b[0;34m)\u001b[0m\u001b[0;34m\u001b[0m\u001b[0;34m\u001b[0m\u001b[0m\n\u001b[0m",
      "\u001b[0;32m<ipython-input-29-546fe2fe006a>\u001b[0m in \u001b[0;36mget_all_tracks_from_all_user_playlists\u001b[0;34m(username, sp)\u001b[0m\n\u001b[1;32m     25\u001b[0m \u001b[0;34m\u001b[0m\u001b[0m\n\u001b[1;32m     26\u001b[0m         \u001b[0;31m#get df of all tracks in a playlist and add to playlist track info df\u001b[0m\u001b[0;34m\u001b[0m\u001b[0;34m\u001b[0m\u001b[0;34m\u001b[0m\u001b[0m\n\u001b[0;32m---> 27\u001b[0;31m         \u001b[0msongs\u001b[0m \u001b[0;34m=\u001b[0m \u001b[0mget_all_tracks_from_playlist\u001b[0m\u001b[0;34m(\u001b[0m\u001b[0mplaylist_id\u001b[0m\u001b[0;34m,\u001b[0m\u001b[0musername\u001b[0m\u001b[0;34m,\u001b[0m \u001b[0msp\u001b[0m\u001b[0;34m)\u001b[0m\u001b[0;34m\u001b[0m\u001b[0;34m\u001b[0m\u001b[0m\n\u001b[0m\u001b[1;32m     28\u001b[0m         \u001b[0mplaylist_tracks_df\u001b[0m \u001b[0;34m=\u001b[0m \u001b[0mget_tracks_info_df\u001b[0m\u001b[0;34m(\u001b[0m\u001b[0msongs\u001b[0m\u001b[0;34m,\u001b[0m \u001b[0musername\u001b[0m\u001b[0;34m,\u001b[0m \u001b[0msp\u001b[0m\u001b[0;34m)\u001b[0m\u001b[0;34m\u001b[0m\u001b[0;34m\u001b[0m\u001b[0m\n\u001b[1;32m     29\u001b[0m         \u001b[0mall_tracks_df\u001b[0m \u001b[0;34m=\u001b[0m \u001b[0mpd\u001b[0m\u001b[0;34m.\u001b[0m\u001b[0mconcat\u001b[0m\u001b[0;34m(\u001b[0m\u001b[0;34m[\u001b[0m\u001b[0mall_tracks_df\u001b[0m\u001b[0;34m,\u001b[0m \u001b[0mplaylist_tracks_df\u001b[0m\u001b[0;34m]\u001b[0m\u001b[0;34m)\u001b[0m\u001b[0;34m\u001b[0m\u001b[0;34m\u001b[0m\u001b[0m\n",
      "\u001b[0;31mNameError\u001b[0m: name 'playlist_id' is not defined"
     ]
    }
   ],
   "source": [
    "df = get_all_tracks_from_all_user_playlists(username, sp)"
   ]
  },
  {
   "cell_type": "code",
   "execution_count": 31,
   "id": "cardiovascular-custody",
   "metadata": {
    "scrolled": true
   },
   "outputs": [
    {
     "name": "stdout",
     "output_type": "stream",
     "text": [
      "<class 'pandas.core.frame.DataFrame'>\n",
      "Int64Index: 3353 entries, 0 to 206\n",
      "Data columns (total 6 columns):\n",
      " #   Column      Non-Null Count  Dtype \n",
      "---  ------      --------------  ----- \n",
      " 0   name        3353 non-null   object\n",
      " 1   track_id    3353 non-null   object\n",
      " 2   artists     3353 non-null   object\n",
      " 3   album_name  3353 non-null   object\n",
      " 4   date_added  3353 non-null   object\n",
      " 5   images      3353 non-null   object\n",
      "dtypes: object(6)\n",
      "memory usage: 183.4+ KB\n"
     ]
    },
    {
     "data": {
      "text/html": [
       "<div>\n",
       "<style scoped>\n",
       "    .dataframe tbody tr th:only-of-type {\n",
       "        vertical-align: middle;\n",
       "    }\n",
       "\n",
       "    .dataframe tbody tr th {\n",
       "        vertical-align: top;\n",
       "    }\n",
       "\n",
       "    .dataframe thead th {\n",
       "        text-align: right;\n",
       "    }\n",
       "</style>\n",
       "<table border=\"1\" class=\"dataframe\">\n",
       "  <thead>\n",
       "    <tr style=\"text-align: right;\">\n",
       "      <th></th>\n",
       "      <th>name</th>\n",
       "      <th>track_id</th>\n",
       "      <th>artists</th>\n",
       "      <th>album_name</th>\n",
       "      <th>date_added</th>\n",
       "      <th>images</th>\n",
       "    </tr>\n",
       "  </thead>\n",
       "  <tbody>\n",
       "    <tr>\n",
       "      <th>0</th>\n",
       "      <td>Beach Baby</td>\n",
       "      <td>7oRNU7Tmek0nm2lqyDojoG</td>\n",
       "      <td>[Bon Iver]</td>\n",
       "      <td>Blood Bank</td>\n",
       "      <td>2021-10-13T15:19:25Z</td>\n",
       "      <td>[https://i.scdn.co/image/ab67616d0000b273a069f...</td>\n",
       "    </tr>\n",
       "    <tr>\n",
       "      <th>1</th>\n",
       "      <td>Free</td>\n",
       "      <td>4b57xU7rviFrRgilxMjDJb</td>\n",
       "      <td>[Sylvan Esso]</td>\n",
       "      <td>Free Love</td>\n",
       "      <td>2021-10-13T15:20:15Z</td>\n",
       "      <td>[https://i.scdn.co/image/ab67616d0000b273bffb4...</td>\n",
       "    </tr>\n",
       "    <tr>\n",
       "      <th>2</th>\n",
       "      <td>Us and Them</td>\n",
       "      <td>1TKTiKp3zbNgrBH2IwSwIx</td>\n",
       "      <td>[Pink Floyd]</td>\n",
       "      <td>The Dark Side of the Moon</td>\n",
       "      <td>2021-10-13T15:20:56Z</td>\n",
       "      <td>[https://i.scdn.co/image/ab67616d0000b273ea7ca...</td>\n",
       "    </tr>\n",
       "    <tr>\n",
       "      <th>3</th>\n",
       "      <td>Lotus Blossom</td>\n",
       "      <td>33p7jMh4ThQdZ3fe6scpfI</td>\n",
       "      <td>[Michael Franks]</td>\n",
       "      <td>One Bad Habit</td>\n",
       "      <td>2021-10-13T15:21:56Z</td>\n",
       "      <td>[https://i.scdn.co/image/ab67616d0000b273f4c0c...</td>\n",
       "    </tr>\n",
       "    <tr>\n",
       "      <th>4</th>\n",
       "      <td>Wait</td>\n",
       "      <td>3rTnGUeDrnZV22DvRuUuXr</td>\n",
       "      <td>[M83]</td>\n",
       "      <td>Hurry Up, We're Dreaming</td>\n",
       "      <td>2021-10-13T15:23:07Z</td>\n",
       "      <td>[https://i.scdn.co/image/ab67616d0000b273fff2c...</td>\n",
       "    </tr>\n",
       "  </tbody>\n",
       "</table>\n",
       "</div>"
      ],
      "text/plain": [
       "            name                track_id           artists  \\\n",
       "0     Beach Baby  7oRNU7Tmek0nm2lqyDojoG        [Bon Iver]   \n",
       "1           Free  4b57xU7rviFrRgilxMjDJb     [Sylvan Esso]   \n",
       "2    Us and Them  1TKTiKp3zbNgrBH2IwSwIx      [Pink Floyd]   \n",
       "3  Lotus Blossom  33p7jMh4ThQdZ3fe6scpfI  [Michael Franks]   \n",
       "4           Wait  3rTnGUeDrnZV22DvRuUuXr             [M83]   \n",
       "\n",
       "                  album_name            date_added  \\\n",
       "0                 Blood Bank  2021-10-13T15:19:25Z   \n",
       "1                  Free Love  2021-10-13T15:20:15Z   \n",
       "2  The Dark Side of the Moon  2021-10-13T15:20:56Z   \n",
       "3              One Bad Habit  2021-10-13T15:21:56Z   \n",
       "4   Hurry Up, We're Dreaming  2021-10-13T15:23:07Z   \n",
       "\n",
       "                                              images  \n",
       "0  [https://i.scdn.co/image/ab67616d0000b273a069f...  \n",
       "1  [https://i.scdn.co/image/ab67616d0000b273bffb4...  \n",
       "2  [https://i.scdn.co/image/ab67616d0000b273ea7ca...  \n",
       "3  [https://i.scdn.co/image/ab67616d0000b273f4c0c...  \n",
       "4  [https://i.scdn.co/image/ab67616d0000b273fff2c...  "
      ]
     },
     "execution_count": 31,
     "metadata": {},
     "output_type": "execute_result"
    }
   ],
   "source": [
    "df.info()\n",
    "df.head()"
   ]
  },
  {
   "cell_type": "code",
   "execution_count": 35,
   "id": "flush-cisco",
   "metadata": {},
   "outputs": [
    {
     "name": "stdout",
     "output_type": "stream",
     "text": [
      "{'album': {'album_type': 'single', 'artists': [{'external_urls': {'spotify': 'https://open.spotify.com/artist/4LEiUm1SRbFMgfqnQTwUbQ'}, 'href': 'https://api.spotify.com/v1/artists/4LEiUm1SRbFMgfqnQTwUbQ', 'id': '4LEiUm1SRbFMgfqnQTwUbQ', 'name': 'Bon Iver', 'type': 'artist', 'uri': 'spotify:artist:4LEiUm1SRbFMgfqnQTwUbQ'}], 'available_markets': [], 'external_urls': {'spotify': 'https://open.spotify.com/album/5MjC805qLtwgqXH1c0kpjK'}, 'href': 'https://api.spotify.com/v1/albums/5MjC805qLtwgqXH1c0kpjK', 'id': '5MjC805qLtwgqXH1c0kpjK', 'images': [{'height': 640, 'url': 'https://i.scdn.co/image/ab67616d0000b273a069fb06a202435c01137a88', 'width': 640}, {'height': 300, 'url': 'https://i.scdn.co/image/ab67616d00001e02a069fb06a202435c01137a88', 'width': 300}, {'height': 64, 'url': 'https://i.scdn.co/image/ab67616d00004851a069fb06a202435c01137a88', 'width': 64}], 'name': 'Blood Bank', 'release_date': '2009-01-20', 'release_date_precision': 'day', 'total_tracks': 4, 'type': 'album', 'uri': 'spotify:album:5MjC805qLtwgqXH1c0kpjK'}, 'artists': [{'external_urls': {'spotify': 'https://open.spotify.com/artist/4LEiUm1SRbFMgfqnQTwUbQ'}, 'href': 'https://api.spotify.com/v1/artists/4LEiUm1SRbFMgfqnQTwUbQ', 'id': '4LEiUm1SRbFMgfqnQTwUbQ', 'name': 'Bon Iver', 'type': 'artist', 'uri': 'spotify:artist:4LEiUm1SRbFMgfqnQTwUbQ'}], 'available_markets': [], 'disc_number': 1, 'duration_ms': 160093, 'explicit': False, 'external_ids': {'isrc': 'US38Y0913402'}, 'external_urls': {'spotify': 'https://open.spotify.com/track/7oRNU7Tmek0nm2lqyDojoG'}, 'href': 'https://api.spotify.com/v1/tracks/7oRNU7Tmek0nm2lqyDojoG', 'id': '7oRNU7Tmek0nm2lqyDojoG', 'is_local': False, 'name': 'Beach Baby', 'popularity': 17, 'preview_url': None, 'track_number': 2, 'type': 'track', 'uri': 'spotify:track:7oRNU7Tmek0nm2lqyDojoG'}\n"
     ]
    }
   ],
   "source": [
    "track_id = '7oRNU7Tmek0nm2lqyDojoG'\n",
    "\n",
    "#start = time.time()\n",
    "#analysis = sp.audio_analysis(track_id)\n",
    "#delta = time.time() - start\n",
    "#print(json.dumps(analysis, indent=4))\n",
    "\n",
    "\n",
    "track = sp.track(track_id)\n",
    "print(track)"
   ]
  },
  {
   "cell_type": "code",
   "execution_count": 46,
   "id": "american-pharmacology",
   "metadata": {},
   "outputs": [
    {
     "name": "stderr",
     "output_type": "stream",
     "text": [
      "HTTP Error for GET to https://api.spotify.com/v1/me/tracks with Params: {'limit': 20, 'offset': 0, 'market': None} returned 401 due to Missing token\n"
     ]
    },
    {
     "ename": "SpotifyException",
     "evalue": "http status: 401, code:-1 - https://api.spotify.com/v1/me/tracks?limit=20&offset=0:\n Missing token, reason: None",
     "output_type": "error",
     "traceback": [
      "\u001b[0;31m---------------------------------------------------------------------------\u001b[0m",
      "\u001b[0;31mHTTPError\u001b[0m                                 Traceback (most recent call last)",
      "\u001b[0;32m~/opt/anaconda3/lib/python3.8/site-packages/spotipy/client.py\u001b[0m in \u001b[0;36m_internal_call\u001b[0;34m(self, method, url, payload, params)\u001b[0m\n\u001b[1;32m    244\u001b[0m \u001b[0;34m\u001b[0m\u001b[0m\n\u001b[0;32m--> 245\u001b[0;31m             \u001b[0mresponse\u001b[0m\u001b[0;34m.\u001b[0m\u001b[0mraise_for_status\u001b[0m\u001b[0;34m(\u001b[0m\u001b[0;34m)\u001b[0m\u001b[0;34m\u001b[0m\u001b[0;34m\u001b[0m\u001b[0m\n\u001b[0m\u001b[1;32m    246\u001b[0m             \u001b[0mresults\u001b[0m \u001b[0;34m=\u001b[0m \u001b[0mresponse\u001b[0m\u001b[0;34m.\u001b[0m\u001b[0mjson\u001b[0m\u001b[0;34m(\u001b[0m\u001b[0;34m)\u001b[0m\u001b[0;34m\u001b[0m\u001b[0;34m\u001b[0m\u001b[0m\n",
      "\u001b[0;32m~/opt/anaconda3/lib/python3.8/site-packages/requests/models.py\u001b[0m in \u001b[0;36mraise_for_status\u001b[0;34m(self)\u001b[0m\n\u001b[1;32m    942\u001b[0m         \u001b[0;32mif\u001b[0m \u001b[0mhttp_error_msg\u001b[0m\u001b[0;34m:\u001b[0m\u001b[0;34m\u001b[0m\u001b[0;34m\u001b[0m\u001b[0m\n\u001b[0;32m--> 943\u001b[0;31m             \u001b[0;32mraise\u001b[0m \u001b[0mHTTPError\u001b[0m\u001b[0;34m(\u001b[0m\u001b[0mhttp_error_msg\u001b[0m\u001b[0;34m,\u001b[0m \u001b[0mresponse\u001b[0m\u001b[0;34m=\u001b[0m\u001b[0mself\u001b[0m\u001b[0;34m)\u001b[0m\u001b[0;34m\u001b[0m\u001b[0;34m\u001b[0m\u001b[0m\n\u001b[0m\u001b[1;32m    944\u001b[0m \u001b[0;34m\u001b[0m\u001b[0m\n",
      "\u001b[0;31mHTTPError\u001b[0m: 401 Client Error: Unauthorized for url: https://api.spotify.com/v1/me/tracks?limit=20&offset=0",
      "\nDuring handling of the above exception, another exception occurred:\n",
      "\u001b[0;31mSpotifyException\u001b[0m                          Traceback (most recent call last)",
      "\u001b[0;32m<ipython-input-46-6a816deb33eb>\u001b[0m in \u001b[0;36m<module>\u001b[0;34m\u001b[0m\n\u001b[1;32m      4\u001b[0m \u001b[0msp\u001b[0m \u001b[0;34m=\u001b[0m \u001b[0mspotipy\u001b[0m\u001b[0;34m.\u001b[0m\u001b[0mSpotify\u001b[0m\u001b[0;34m(\u001b[0m\u001b[0mclient_credentials_manager\u001b[0m\u001b[0;34m=\u001b[0m\u001b[0mclient_credentials_manager\u001b[0m\u001b[0;34m)\u001b[0m\u001b[0;34m\u001b[0m\u001b[0;34m\u001b[0m\u001b[0m\n\u001b[1;32m      5\u001b[0m \u001b[0;34m\u001b[0m\u001b[0m\n\u001b[0;32m----> 6\u001b[0;31m \u001b[0msongs\u001b[0m \u001b[0;34m=\u001b[0m \u001b[0msp\u001b[0m\u001b[0;34m.\u001b[0m\u001b[0mcurrent_user_saved_tracks\u001b[0m\u001b[0;34m(\u001b[0m\u001b[0;34m)\u001b[0m\u001b[0;34m\u001b[0m\u001b[0;34m\u001b[0m\u001b[0m\n\u001b[0m\u001b[1;32m      7\u001b[0m \u001b[0mliked_songs\u001b[0m \u001b[0;34m=\u001b[0m \u001b[0msongs\u001b[0m\u001b[0;34m[\u001b[0m\u001b[0;34m\"items\"\u001b[0m\u001b[0;34m]\u001b[0m\u001b[0;34m\u001b[0m\u001b[0;34m\u001b[0m\u001b[0m\n\u001b[1;32m      8\u001b[0m \u001b[0;34m\u001b[0m\u001b[0m\n",
      "\u001b[0;32m~/opt/anaconda3/lib/python3.8/site-packages/spotipy/client.py\u001b[0m in \u001b[0;36mcurrent_user_saved_tracks\u001b[0;34m(self, limit, offset, market)\u001b[0m\n\u001b[1;32m   1230\u001b[0m \u001b[0;34m\u001b[0m\u001b[0m\n\u001b[1;32m   1231\u001b[0m         \"\"\"\n\u001b[0;32m-> 1232\u001b[0;31m         \u001b[0;32mreturn\u001b[0m \u001b[0mself\u001b[0m\u001b[0;34m.\u001b[0m\u001b[0m_get\u001b[0m\u001b[0;34m(\u001b[0m\u001b[0;34m\"me/tracks\"\u001b[0m\u001b[0;34m,\u001b[0m \u001b[0mlimit\u001b[0m\u001b[0;34m=\u001b[0m\u001b[0mlimit\u001b[0m\u001b[0;34m,\u001b[0m \u001b[0moffset\u001b[0m\u001b[0;34m=\u001b[0m\u001b[0moffset\u001b[0m\u001b[0;34m,\u001b[0m \u001b[0mmarket\u001b[0m\u001b[0;34m=\u001b[0m\u001b[0mmarket\u001b[0m\u001b[0;34m)\u001b[0m\u001b[0;34m\u001b[0m\u001b[0;34m\u001b[0m\u001b[0m\n\u001b[0m\u001b[1;32m   1233\u001b[0m \u001b[0;34m\u001b[0m\u001b[0m\n\u001b[1;32m   1234\u001b[0m     \u001b[0;32mdef\u001b[0m \u001b[0mcurrent_user_saved_tracks_add\u001b[0m\u001b[0;34m(\u001b[0m\u001b[0mself\u001b[0m\u001b[0;34m,\u001b[0m \u001b[0mtracks\u001b[0m\u001b[0;34m=\u001b[0m\u001b[0;32mNone\u001b[0m\u001b[0;34m)\u001b[0m\u001b[0;34m:\u001b[0m\u001b[0;34m\u001b[0m\u001b[0;34m\u001b[0m\u001b[0m\n",
      "\u001b[0;32m~/opt/anaconda3/lib/python3.8/site-packages/spotipy/client.py\u001b[0m in \u001b[0;36m_get\u001b[0;34m(self, url, args, payload, **kwargs)\u001b[0m\n\u001b[1;32m    295\u001b[0m             \u001b[0mkwargs\u001b[0m\u001b[0;34m.\u001b[0m\u001b[0mupdate\u001b[0m\u001b[0;34m(\u001b[0m\u001b[0margs\u001b[0m\u001b[0;34m)\u001b[0m\u001b[0;34m\u001b[0m\u001b[0;34m\u001b[0m\u001b[0m\n\u001b[1;32m    296\u001b[0m \u001b[0;34m\u001b[0m\u001b[0m\n\u001b[0;32m--> 297\u001b[0;31m         \u001b[0;32mreturn\u001b[0m \u001b[0mself\u001b[0m\u001b[0;34m.\u001b[0m\u001b[0m_internal_call\u001b[0m\u001b[0;34m(\u001b[0m\u001b[0;34m\"GET\"\u001b[0m\u001b[0;34m,\u001b[0m \u001b[0murl\u001b[0m\u001b[0;34m,\u001b[0m \u001b[0mpayload\u001b[0m\u001b[0;34m,\u001b[0m \u001b[0mkwargs\u001b[0m\u001b[0;34m)\u001b[0m\u001b[0;34m\u001b[0m\u001b[0;34m\u001b[0m\u001b[0m\n\u001b[0m\u001b[1;32m    298\u001b[0m \u001b[0;34m\u001b[0m\u001b[0m\n\u001b[1;32m    299\u001b[0m     \u001b[0;32mdef\u001b[0m \u001b[0m_post\u001b[0m\u001b[0;34m(\u001b[0m\u001b[0mself\u001b[0m\u001b[0;34m,\u001b[0m \u001b[0murl\u001b[0m\u001b[0;34m,\u001b[0m \u001b[0margs\u001b[0m\u001b[0;34m=\u001b[0m\u001b[0;32mNone\u001b[0m\u001b[0;34m,\u001b[0m \u001b[0mpayload\u001b[0m\u001b[0;34m=\u001b[0m\u001b[0;32mNone\u001b[0m\u001b[0;34m,\u001b[0m \u001b[0;34m**\u001b[0m\u001b[0mkwargs\u001b[0m\u001b[0;34m)\u001b[0m\u001b[0;34m:\u001b[0m\u001b[0;34m\u001b[0m\u001b[0;34m\u001b[0m\u001b[0m\n",
      "\u001b[0;32m~/opt/anaconda3/lib/python3.8/site-packages/spotipy/client.py\u001b[0m in \u001b[0;36m_internal_call\u001b[0;34m(self, method, url, payload, params)\u001b[0m\n\u001b[1;32m    265\u001b[0m             )\n\u001b[1;32m    266\u001b[0m \u001b[0;34m\u001b[0m\u001b[0m\n\u001b[0;32m--> 267\u001b[0;31m             raise SpotifyException(\n\u001b[0m\u001b[1;32m    268\u001b[0m                 \u001b[0mresponse\u001b[0m\u001b[0;34m.\u001b[0m\u001b[0mstatus_code\u001b[0m\u001b[0;34m,\u001b[0m\u001b[0;34m\u001b[0m\u001b[0;34m\u001b[0m\u001b[0m\n\u001b[1;32m    269\u001b[0m                 \u001b[0;34m-\u001b[0m\u001b[0;36m1\u001b[0m\u001b[0;34m,\u001b[0m\u001b[0;34m\u001b[0m\u001b[0;34m\u001b[0m\u001b[0m\n",
      "\u001b[0;31mSpotifyException\u001b[0m: http status: 401, code:-1 - https://api.spotify.com/v1/me/tracks?limit=20&offset=0:\n Missing token, reason: None"
     ]
    }
   ],
   "source": [
    "scope = 'user-library-read'\n",
    "#sp = spotipy.Spotipy(auth_manager=SpotifyOAuth(scope=scope))\n",
    "client_credentials_manager = SpotifyClientCredentials(client_id=client_id, client_secret=client_secret)#Create manager for ease\n",
    "sp = spotipy.Spotify(client_credentials_manager=client_credentials_manager)\n",
    "\n",
    "songs = sp.current_user_saved_tracks()\n",
    "liked_songs = songs[\"items\"]\n",
    "\n",
    "while liked_songs['next']:\n",
    "    songs = sp.next(songs)\n",
    "    liked_songs.extend(songs['items'])\n",
    "    \n",
    "#return liked_songs\n"
   ]
  },
  {
   "cell_type": "code",
   "execution_count": null,
   "id": "jewish-technique",
   "metadata": {},
   "outputs": [],
   "source": []
  },
  {
   "cell_type": "code",
   "execution_count": null,
   "id": "unauthorized-twins",
   "metadata": {},
   "outputs": [],
   "source": []
  },
  {
   "cell_type": "code",
   "execution_count": null,
   "id": "liberal-adaptation",
   "metadata": {},
   "outputs": [],
   "source": []
  },
  {
   "cell_type": "code",
   "execution_count": null,
   "id": "industrial-fossil",
   "metadata": {},
   "outputs": [],
   "source": []
  }
 ],
 "metadata": {
  "kernelspec": {
   "display_name": "Python 3",
   "language": "python",
   "name": "python3"
  },
  "language_info": {
   "codemirror_mode": {
    "name": "ipython",
    "version": 3
   },
   "file_extension": ".py",
   "mimetype": "text/x-python",
   "name": "python",
   "nbconvert_exporter": "python",
   "pygments_lexer": "ipython3",
   "version": "3.8.5"
  }
 },
 "nbformat": 4,
 "nbformat_minor": 5
}
