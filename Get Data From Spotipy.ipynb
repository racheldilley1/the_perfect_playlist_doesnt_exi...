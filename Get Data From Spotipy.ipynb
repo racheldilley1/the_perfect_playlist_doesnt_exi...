{
 "cells": [
  {
   "cell_type": "code",
   "execution_count": 80,
   "id": "million-measurement",
   "metadata": {},
   "outputs": [],
   "source": [
    "#get data\n",
    "import spotipy\n",
    "from spotipy.oauth2 import SpotifyOAuth, SpotifyClientCredentials\n",
    "from spotipy import util\n",
    "\n",
    "#analytics\n",
    "import pandas as pd\n",
    "\n",
    "import sys"
   ]
  },
  {
   "cell_type": "code",
   "execution_count": 81,
   "id": "strategic-michael",
   "metadata": {},
   "outputs": [],
   "source": [
    "client_id = '759349ca4662426990ede422e2a1efdb' #Need to create developer profile\n",
    "client_secret = 'b59771d6de47460babce1ce563df31ed'\n",
    "username = 'rldilley-us' #Store username\n",
    "redirect_uri='http://localhost:8080/'\n",
    "client_credentials_manager = SpotifyClientCredentials(client_id=client_id, client_secret=client_secret)#Create manager for ease\n",
    "sp = spotipy.Spotify(client_credentials_manager=client_credentials_manager)"
   ]
  },
  {
   "cell_type": "markdown",
   "id": "speaking-document",
   "metadata": {},
   "source": [
    "### Get Data"
   ]
  },
  {
   "cell_type": "code",
   "execution_count": 85,
   "id": "restricted-plate",
   "metadata": {
    "scrolled": true
   },
   "outputs": [],
   "source": [
    "def get_all_tracks_from_all_user_playlists(username, sp):\n",
    "    \n",
    "    playlist_dict = get_all_user_playlists(username,sp)\n",
    "    \n",
    "    cols = ['name', 'track_id', 'artists', 'album_name', 'date_added', 'images']\n",
    "    all_tracks_df = pd.DataFrame( columns = cols)\n",
    "    \n",
    "    for name,trackid in playlist_dict.items():\n",
    "        playlist_tracks_df = get_playlist_tracks_df(trackid, username, sp)\n",
    "        all_tracks_df = pd.concat([all_tracks_df, playlist_tracks_df])\n",
    "    \n",
    "    return all_tracks_df\n",
    "        \n",
    "def get_all_user_playlists(username, sp):\n",
    "    playlists = sp.user_playlists(username)\n",
    "    playlist_dict = {}\n",
    "    for playlist in playlists['items']:\n",
    "        playlist_dict[playlist['name']] = playlist['id']\n",
    "    \n",
    "    return playlist_dict\n",
    "\n",
    "def get_playlist_tracks_df(playlist_id, username, sp):\n",
    "    \n",
    "    songs = get_all_tracks_from_api(playlist_id,username, sp)\n",
    "    \n",
    "    tracks = {}\n",
    "    cols = ['name', 'track_id', 'artists', 'album_name', 'date_added', 'images']\n",
    "    tracks_df = pd.DataFrame( columns = cols)\n",
    "    for i in range(0, len(songs)):\n",
    "     if songs[i]['track']['id'] != None: # Removes  local tracks, if any\n",
    "        #track_ids.append(songs[i]['track']['id'])\n",
    "        #track_names.append(songs[i]['track']['name'])\n",
    "        name =  songs[i]['track']['name']\n",
    "        trackid = songs[i]['track']['id']\n",
    "        tracks[name] = trackid\n",
    "\n",
    "        artists = []\n",
    "        artists_dict = {}\n",
    "        for x in songs[i]['track']['artists']:\n",
    "            artists.append(x['name'])\n",
    "            artists_dict[x['name']] = x['id']\n",
    "\n",
    "        imgs = []\n",
    "        for y in songs[i]['track']['album']['images']:\n",
    "            imgs.append(y['url'])\n",
    "\n",
    "        tracks_df = tracks_df.append({'name': name, 'track_id': trackid, 'artists': artists, 'album_name': songs[i]['track']['album']['name'], \n",
    "                                      'date_added': songs[i]['added_at'], 'images':imgs}\n",
    "                                       , ignore_index = True)\n",
    "    return tracks_df\n",
    "\n",
    "def get_all_tracks_from_api(playlist_id, username, sp):\n",
    "\n",
    "    playlist = sp.user_playlist_tracks(username,playlist_id)\n",
    "\n",
    "    #Extract list of songs/tracks\n",
    "    songs = playlist[\"items\"]\n",
    "    \n",
    "    while playlist['next']:\n",
    "        playlist = sp.next(playlist)\n",
    "        songs.extend(playlist['items'])\n",
    "    \n",
    "    return songs"
   ]
  },
  {
   "cell_type": "code",
   "execution_count": 86,
   "id": "level-polyester",
   "metadata": {},
   "outputs": [],
   "source": [
    "df = get_all_tracks_from_all_user_playlists(username, sp)"
   ]
  },
  {
   "cell_type": "code",
   "execution_count": 87,
   "id": "exciting-grounds",
   "metadata": {
    "scrolled": true
   },
   "outputs": [
    {
     "name": "stdout",
     "output_type": "stream",
     "text": [
      "<class 'pandas.core.frame.DataFrame'>\n",
      "Int64Index: 3350 entries, 0 to 206\n",
      "Data columns (total 6 columns):\n",
      " #   Column      Non-Null Count  Dtype \n",
      "---  ------      --------------  ----- \n",
      " 0   name        3350 non-null   object\n",
      " 1   track_id    3350 non-null   object\n",
      " 2   artists     3350 non-null   object\n",
      " 3   album_name  3350 non-null   object\n",
      " 4   date_added  3350 non-null   object\n",
      " 5   images      3350 non-null   object\n",
      "dtypes: object(6)\n",
      "memory usage: 183.2+ KB\n"
     ]
    },
    {
     "data": {
      "text/html": [
       "<div>\n",
       "<style scoped>\n",
       "    .dataframe tbody tr th:only-of-type {\n",
       "        vertical-align: middle;\n",
       "    }\n",
       "\n",
       "    .dataframe tbody tr th {\n",
       "        vertical-align: top;\n",
       "    }\n",
       "\n",
       "    .dataframe thead th {\n",
       "        text-align: right;\n",
       "    }\n",
       "</style>\n",
       "<table border=\"1\" class=\"dataframe\">\n",
       "  <thead>\n",
       "    <tr style=\"text-align: right;\">\n",
       "      <th></th>\n",
       "      <th>name</th>\n",
       "      <th>track_id</th>\n",
       "      <th>artists</th>\n",
       "      <th>album_name</th>\n",
       "      <th>date_added</th>\n",
       "      <th>images</th>\n",
       "    </tr>\n",
       "  </thead>\n",
       "  <tbody>\n",
       "    <tr>\n",
       "      <th>0</th>\n",
       "      <td>Beach Baby</td>\n",
       "      <td>7oRNU7Tmek0nm2lqyDojoG</td>\n",
       "      <td>[Bon Iver]</td>\n",
       "      <td>Blood Bank</td>\n",
       "      <td>2021-10-13T15:19:25Z</td>\n",
       "      <td>[https://i.scdn.co/image/ab67616d0000b273a069f...</td>\n",
       "    </tr>\n",
       "    <tr>\n",
       "      <th>1</th>\n",
       "      <td>Free</td>\n",
       "      <td>4b57xU7rviFrRgilxMjDJb</td>\n",
       "      <td>[Sylvan Esso]</td>\n",
       "      <td>Free Love</td>\n",
       "      <td>2021-10-13T15:20:15Z</td>\n",
       "      <td>[https://i.scdn.co/image/ab67616d0000b273bffb4...</td>\n",
       "    </tr>\n",
       "    <tr>\n",
       "      <th>2</th>\n",
       "      <td>Us and Them</td>\n",
       "      <td>1TKTiKp3zbNgrBH2IwSwIx</td>\n",
       "      <td>[Pink Floyd]</td>\n",
       "      <td>The Dark Side of the Moon</td>\n",
       "      <td>2021-10-13T15:20:56Z</td>\n",
       "      <td>[https://i.scdn.co/image/ab67616d0000b273ea7ca...</td>\n",
       "    </tr>\n",
       "    <tr>\n",
       "      <th>3</th>\n",
       "      <td>Lotus Blossom</td>\n",
       "      <td>33p7jMh4ThQdZ3fe6scpfI</td>\n",
       "      <td>[Michael Franks]</td>\n",
       "      <td>One Bad Habit</td>\n",
       "      <td>2021-10-13T15:21:56Z</td>\n",
       "      <td>[https://i.scdn.co/image/ab67616d0000b273f4c0c...</td>\n",
       "    </tr>\n",
       "    <tr>\n",
       "      <th>4</th>\n",
       "      <td>Wait</td>\n",
       "      <td>3rTnGUeDrnZV22DvRuUuXr</td>\n",
       "      <td>[M83]</td>\n",
       "      <td>Hurry Up, We're Dreaming</td>\n",
       "      <td>2021-10-13T15:23:07Z</td>\n",
       "      <td>[https://i.scdn.co/image/ab67616d0000b273fff2c...</td>\n",
       "    </tr>\n",
       "  </tbody>\n",
       "</table>\n",
       "</div>"
      ],
      "text/plain": [
       "            name                track_id           artists  \\\n",
       "0     Beach Baby  7oRNU7Tmek0nm2lqyDojoG        [Bon Iver]   \n",
       "1           Free  4b57xU7rviFrRgilxMjDJb     [Sylvan Esso]   \n",
       "2    Us and Them  1TKTiKp3zbNgrBH2IwSwIx      [Pink Floyd]   \n",
       "3  Lotus Blossom  33p7jMh4ThQdZ3fe6scpfI  [Michael Franks]   \n",
       "4           Wait  3rTnGUeDrnZV22DvRuUuXr             [M83]   \n",
       "\n",
       "                  album_name            date_added  \\\n",
       "0                 Blood Bank  2021-10-13T15:19:25Z   \n",
       "1                  Free Love  2021-10-13T15:20:15Z   \n",
       "2  The Dark Side of the Moon  2021-10-13T15:20:56Z   \n",
       "3              One Bad Habit  2021-10-13T15:21:56Z   \n",
       "4   Hurry Up, We're Dreaming  2021-10-13T15:23:07Z   \n",
       "\n",
       "                                              images  \n",
       "0  [https://i.scdn.co/image/ab67616d0000b273a069f...  \n",
       "1  [https://i.scdn.co/image/ab67616d0000b273bffb4...  \n",
       "2  [https://i.scdn.co/image/ab67616d0000b273ea7ca...  \n",
       "3  [https://i.scdn.co/image/ab67616d0000b273f4c0c...  \n",
       "4  [https://i.scdn.co/image/ab67616d0000b273fff2c...  "
      ]
     },
     "execution_count": 87,
     "metadata": {},
     "output_type": "execute_result"
    }
   ],
   "source": [
    "df.info()\n",
    "df.head()"
   ]
  },
  {
   "cell_type": "code",
   "execution_count": null,
   "id": "advised-austria",
   "metadata": {},
   "outputs": [],
   "source": [
    "track_id = '7oRNU7Tmek0nm2lqyDojoG'\n",
    "sp.audio_features()"
   ]
  },
  {
   "cell_type": "code",
   "execution_count": null,
   "id": "fifty-denmark",
   "metadata": {},
   "outputs": [],
   "source": []
  },
  {
   "cell_type": "code",
   "execution_count": null,
   "id": "sorted-review",
   "metadata": {},
   "outputs": [],
   "source": []
  },
  {
   "cell_type": "code",
   "execution_count": null,
   "id": "affiliated-botswana",
   "metadata": {},
   "outputs": [],
   "source": []
  },
  {
   "cell_type": "code",
   "execution_count": null,
   "id": "infectious-massachusetts",
   "metadata": {},
   "outputs": [],
   "source": []
  },
  {
   "cell_type": "code",
   "execution_count": null,
   "id": "biological-lease",
   "metadata": {},
   "outputs": [],
   "source": []
  }
 ],
 "metadata": {
  "kernelspec": {
   "display_name": "Python 3",
   "language": "python",
   "name": "python3"
  },
  "language_info": {
   "codemirror_mode": {
    "name": "ipython",
    "version": 3
   },
   "file_extension": ".py",
   "mimetype": "text/x-python",
   "name": "python",
   "nbconvert_exporter": "python",
   "pygments_lexer": "ipython3",
   "version": "3.8.5"
  }
 },
 "nbformat": 4,
 "nbformat_minor": 5
}
