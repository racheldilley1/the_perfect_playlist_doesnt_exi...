{
 "cells": [
  {
   "cell_type": "code",
   "execution_count": 65,
   "id": "orange-parker",
   "metadata": {},
   "outputs": [],
   "source": [
    "#get data\n",
    "import spotipy\n",
    "from spotipy.oauth2 import SpotifyOAuth, SpotifyClientCredentials\n",
    "from spotipy import util\n",
    "\n",
    "#analytics\n",
    "import pandas as pd\n",
    "\n",
    "import sys"
   ]
  },
  {
   "cell_type": "code",
   "execution_count": 66,
   "id": "hollywood-teddy",
   "metadata": {},
   "outputs": [],
   "source": [
    "client_id = '759349ca4662426990ede422e2a1efdb' #Need to create developer profile\n",
    "client_secret = 'b59771d6de47460babce1ce563df31ed'\n",
    "username = 'rldilley-us' #Store username\n",
    "redirect_uri='http://localhost:8080/'\n",
    "client_credentials_manager = SpotifyClientCredentials(client_id=client_id, client_secret=client_secret)#Create manager for ease\n",
    "sp = spotipy.Spotify(client_credentials_manager=client_credentials_manager)"
   ]
  },
  {
   "cell_type": "markdown",
   "id": "approved-debut",
   "metadata": {},
   "source": [
    "### Get Data"
   ]
  },
  {
   "cell_type": "code",
   "execution_count": 75,
   "id": "independent-psychiatry",
   "metadata": {
    "scrolled": true
   },
   "outputs": [],
   "source": [
    "def get_all_tracks_from_all_user_playlists(username, sp):\n",
    "    \n",
    "    playlist_dict = get_all_user_playlists(username,sp)\n",
    "    \n",
    "    cols = ['name', 'track_id', 'artists', 'album_name', 'date_added', 'images']\n",
    "    all_tracks_df = pd.DataFrame( columns = cols)\n",
    "    \n",
    "    for name,trackid in playlist_dict.items():\n",
    "        playlist_tracks_df = get_playlist_tracks_df(trackid, username, sp)\n",
    "        all_tracks_df = pd.concat([all_tracks_df, playlist_tracks_df])\n",
    "    \n",
    "    return all_tracks_df\n",
    "        \n",
    "def get_all_user_playlists(username, sp):\n",
    "    playlists = sp.user_playlists(username)\n",
    "    playlist_dict = {}\n",
    "    for playlist in playlists['items']:\n",
    "        playlist_dict[playlist['name']] = playlist['id']\n",
    "    \n",
    "    return playlist_dict\n",
    "\n",
    "def get_playlist_tracks_df(playlist_id, username, sp):\n",
    "    \n",
    "    songs = get_all_tracks_from_api(playlist_id,username, sp)\n",
    "    \n",
    "    tracks = {}\n",
    "    cols = ['name', 'track_id', 'artists', 'album_name', 'date_added', 'images']\n",
    "    tracks_df = pd.DataFrame( columns = cols)\n",
    "    for i in range(0, len(songs)):\n",
    "     if songs[i]['track']['id'] != None: # Removes  local tracks, if any\n",
    "        #track_ids.append(songs[i]['track']['id'])\n",
    "        #track_names.append(songs[i]['track']['name'])\n",
    "        name =  songs[i]['track']['name']\n",
    "        trackid = songs[i]['track']['id']\n",
    "        tracks[name] = trackid\n",
    "\n",
    "        artists = []\n",
    "        artists_dict = {}\n",
    "        for x in songs[i]['track']['artists']:\n",
    "            artists.append(x['name'])\n",
    "            artists_dict[x['name']] = x['id']\n",
    "\n",
    "        imgs = []\n",
    "        for y in songs[i]['track']['album']['images']:\n",
    "            imgs.append(y['url'])\n",
    "\n",
    "        tracks_df = tracks_df.append({'name': name, 'track_id': trackid, 'artists': artists, 'album_name': songs[i]['track']['album']['name'], \n",
    "                                      'date_added': songs[i]['added_at'], 'images':imgs}\n",
    "                                       , ignore_index = True)\n",
    "    return tracks_df\n",
    "\n",
    "def get_all_tracks_from_api(playlist_id, username, sp):\n",
    "\n",
    "    playlist = sp.user_playlist_tracks(username,playlist_id)\n",
    "\n",
    "    #Extract list of songs/tracks\n",
    "    songs = playlist[\"items\"]\n",
    "    \n",
    "    while playlist['next']:\n",
    "        playlist = sp.next(playlist)\n",
    "        songs.extend(playlist['items'])\n",
    "    \n",
    "    return songs"
   ]
  },
  {
   "cell_type": "code",
   "execution_count": 77,
   "id": "concerned-georgia",
   "metadata": {},
   "outputs": [],
   "source": [
    "df = get_all_tracks_from_all_user_playlists(username, sp)"
   ]
  },
  {
   "cell_type": "code",
   "execution_count": 78,
   "id": "discrete-letters",
   "metadata": {
    "scrolled": true
   },
   "outputs": [
    {
     "name": "stdout",
     "output_type": "stream",
     "text": [
      "<class 'pandas.core.frame.DataFrame'>\n",
      "Int64Index: 3350 entries, 0 to 206\n",
      "Data columns (total 6 columns):\n",
      " #   Column      Non-Null Count  Dtype \n",
      "---  ------      --------------  ----- \n",
      " 0   name        3350 non-null   object\n",
      " 1   track_id    3350 non-null   object\n",
      " 2   artists     3350 non-null   object\n",
      " 3   album_name  3350 non-null   object\n",
      " 4   date_added  3350 non-null   object\n",
      " 5   images      3350 non-null   object\n",
      "dtypes: object(6)\n",
      "memory usage: 183.2+ KB\n"
     ]
    }
   ],
   "source": [
    "df.info()"
   ]
  },
  {
   "cell_type": "code",
   "execution_count": null,
   "id": "fewer-miller",
   "metadata": {},
   "outputs": [],
   "source": []
  },
  {
   "cell_type": "code",
   "execution_count": null,
   "id": "exact-ownership",
   "metadata": {},
   "outputs": [],
   "source": []
  },
  {
   "cell_type": "code",
   "execution_count": null,
   "id": "academic-underwear",
   "metadata": {},
   "outputs": [],
   "source": []
  },
  {
   "cell_type": "code",
   "execution_count": null,
   "id": "broken-production",
   "metadata": {},
   "outputs": [],
   "source": []
  },
  {
   "cell_type": "code",
   "execution_count": null,
   "id": "charged-columbus",
   "metadata": {},
   "outputs": [],
   "source": []
  },
  {
   "cell_type": "code",
   "execution_count": null,
   "id": "forbidden-annex",
   "metadata": {},
   "outputs": [],
   "source": []
  }
 ],
 "metadata": {
  "kernelspec": {
   "display_name": "Python 3",
   "language": "python",
   "name": "python3"
  },
  "language_info": {
   "codemirror_mode": {
    "name": "ipython",
    "version": 3
   },
   "file_extension": ".py",
   "mimetype": "text/x-python",
   "name": "python",
   "nbconvert_exporter": "python",
   "pygments_lexer": "ipython3",
   "version": "3.8.5"
  }
 },
 "nbformat": 4,
 "nbformat_minor": 5
}
