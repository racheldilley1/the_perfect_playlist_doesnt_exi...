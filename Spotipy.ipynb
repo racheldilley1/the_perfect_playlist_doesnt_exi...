{
 "cells": [
  {
   "cell_type": "code",
   "execution_count": 65,
   "id": "square-mortgage",
   "metadata": {},
   "outputs": [],
   "source": [
    "#get data\n",
    "import spotipy\n",
    "from spotipy.oauth2 import SpotifyOAuth, SpotifyClientCredentials\n",
    "from spotipy import util\n",
    "\n",
    "#analytics\n",
    "import pandas as pd\n",
    "\n",
    "import sys"
   ]
  },
  {
   "cell_type": "code",
   "execution_count": 66,
   "id": "compact-jones",
   "metadata": {},
   "outputs": [],
   "source": [
    "client_id = '759349ca4662426990ede422e2a1efdb' #Need to create developer profile\n",
    "client_secret = 'b59771d6de47460babce1ce563df31ed'\n",
    "username = 'rldilley-us' #Store username\n",
    "redirect_uri='http://localhost:8080/'\n",
    "client_credentials_manager = SpotifyClientCredentials(client_id=client_id, client_secret=client_secret)#Create manager for ease\n",
    "sp = spotipy.Spotify(client_credentials_manager=client_credentials_manager)"
   ]
  },
  {
   "cell_type": "markdown",
   "id": "handy-emergency",
   "metadata": {},
   "source": [
    "### Get Data"
   ]
  },
  {
   "cell_type": "code",
   "execution_count": 70,
   "id": "wrapped-configuration",
   "metadata": {
    "scrolled": true
   },
   "outputs": [],
   "source": [
    "def get_all_tracks_from_all_user_playlists(username, sp):\n",
    "    \n",
    "\n",
    "def get_all_user_playlists(username, sp):\n",
    "    playlists = sp.user_playlists(username)\n",
    "    playlist_dict = {}\n",
    "    for playlist in playlists['items']:\n",
    "        playlist_dict[playlist['name']] = playlist['id']\n",
    "    \n",
    "    return playlist_dict\n",
    "\n",
    "def get_playlist_tracks_df(playlist_id, username, sp):\n",
    "    \n",
    "    songs = get_all_tracks_from_api(playlist_id,username, sp)\n",
    "    \n",
    "    tracks = {}\n",
    "    cols = ['name', 'track_id', 'artists', 'album_name', 'date_added', 'images']\n",
    "    tracks_df = pd.DataFrame( columns = cols)\n",
    "    for i in range(0, len(songs)):\n",
    "     if songs[i]['track']['id'] != None: # Removes  local tracks, if any\n",
    "        #track_ids.append(songs[i]['track']['id'])\n",
    "        #track_names.append(songs[i]['track']['name'])\n",
    "        name =  songs[i]['track']['name']\n",
    "        trackid = songs[i]['track']['id']\n",
    "        tracks[name] = trackid\n",
    "\n",
    "        artists = []\n",
    "        artists_dict = {}\n",
    "        for x in songs[i]['track']['artists']:\n",
    "            artists.append(x['name'])\n",
    "            artists_dict[x['name']] = x['id']\n",
    "\n",
    "        imgs = []\n",
    "        for y in songs[i]['track']['album']['images']:\n",
    "            imgs.append(y['url'])\n",
    "\n",
    "        tracks_df = tracks_df.append({'name': name, 'track_id': trackid, 'artists': artists, 'album_name': songs[i]['track']['album']['name'], \n",
    "                                      'date_added': songs[i]['added_at'], 'images':imgs}\n",
    "                                       , ignore_index = True)\n",
    "    return tracks_df\n",
    "\n",
    "def get_all_tracks_from_api(playlist_id, username, sp):\n",
    "    #Set up Connection \n",
    "    #username = 'rldilley-us' #Store username\n",
    "    #scope = 'user-library-read playlist-modify-public playlist-read-private'\n",
    "    \n",
    "    #token = util.prompt_for_user_token(username, scope, client_id, \n",
    "    #client_secret, redirect_uri)\n",
    "\n",
    "\n",
    "    playlist = sp.user_playlist_tracks(username,playlist_id)\n",
    "\n",
    "    #Extract list of songs/tracks\n",
    "    songs = playlist[\"items\"]\n",
    "    \n",
    "    while playlist['next']:\n",
    "        playlist = sp.next(playlist)\n",
    "        songs.extend(playlist['items'])\n",
    "    \n",
    "    return songs"
   ]
  },
  {
   "cell_type": "code",
   "execution_count": null,
   "id": "southeast-grocery",
   "metadata": {},
   "outputs": [],
   "source": []
  },
  {
   "cell_type": "code",
   "execution_count": 71,
   "id": "harmful-rebel",
   "metadata": {
    "scrolled": true
   },
   "outputs": [
    {
     "name": "stdout",
     "output_type": "stream",
     "text": [
      "<class 'pandas.core.frame.DataFrame'>\n",
      "RangeIndex: 297 entries, 0 to 296\n",
      "Data columns (total 6 columns):\n",
      " #   Column      Non-Null Count  Dtype \n",
      "---  ------      --------------  ----- \n",
      " 0   name        297 non-null    object\n",
      " 1   track_id    297 non-null    object\n",
      " 2   artists     297 non-null    object\n",
      " 3   album_name  297 non-null    object\n",
      " 4   date_added  297 non-null    object\n",
      " 5   images      297 non-null    object\n",
      "dtypes: object(6)\n",
      "memory usage: 14.0+ KB\n"
     ]
    }
   ],
   "source": [
    "wubs_playlist = '0vS5Vk4gitPjSVVHFX2JIW'\n",
    "tracks_df = get_playlist_tracks_df(wubs_playlist,username, sp)\n",
    "tracks_df.info()"
   ]
  },
  {
   "cell_type": "code",
   "execution_count": 72,
   "id": "japanese-wildlife",
   "metadata": {},
   "outputs": [
    {
     "data": {
      "text/plain": [
       "{'sing me to sleep': '4VuMnQdXxOcHmm5uq57R5R',\n",
       " 'It’s not a house it’s a home': '7DbZAHbcDPyc7cUYXqEd7q',\n",
       " 'Yellow Bird': '6XeU5Y3pJLShKT4P8erlEb',\n",
       " 'Dn🐝': '4WyU0ti04v3l576t8sC5zO',\n",
       " 'party bass': '17abtnqNC2gjvOOGbeZUHi',\n",
       " 'Sk8': '4vsoYEiyEPalA6rthaV9BJ',\n",
       " 'impala llama': '0bGjVt6yNpT63ek767Au9u',\n",
       " 'a day in the life': '0wyGg98TkLkv0XOqY0hoNI',\n",
       " 'smooth': '52IC4wcFZfpRGLqK6QOWj8',\n",
       " 'muy tranquilo': '5YhM8k58l2HEr0cBYwujRm',\n",
       " 'kick’n it': '5SMRB8gct99pw3qEbqrAKh',\n",
       " 'wubs': '0vS5Vk4gitPjSVVHFX2JIW',\n",
       " \"beemin'\": '0GlKsjmpxEBuVRjiwjEp90',\n",
       " 'kung fu kenny': '5y5aRlIvcsrDTtXHCgKYQI',\n",
       " 'lil bit of everything': '3lYl0LTXO5sFAo2FAePy9w',\n",
       " 'ya dig ': '4JDCjX4BiTo7e784QPyeAg',\n",
       " 'runnin through tha 336': '26aERzIdDelkn7Z0jpFt2s',\n",
       " 'chill electro': '3oXtVOvTF4s1Vf2iS5XMa3',\n",
       " 'study songs': '29Vq3gsXdw4gHA1gHXZV58'}"
      ]
     },
     "execution_count": 72,
     "metadata": {},
     "output_type": "execute_result"
    }
   ],
   "source": [
    "get_all_user_playlists(username)"
   ]
  },
  {
   "cell_type": "code",
   "execution_count": null,
   "id": "dynamic-mistake",
   "metadata": {},
   "outputs": [],
   "source": []
  }
 ],
 "metadata": {
  "kernelspec": {
   "display_name": "Python 3",
   "language": "python",
   "name": "python3"
  },
  "language_info": {
   "codemirror_mode": {
    "name": "ipython",
    "version": 3
   },
   "file_extension": ".py",
   "mimetype": "text/x-python",
   "name": "python",
   "nbconvert_exporter": "python",
   "pygments_lexer": "ipython3",
   "version": "3.8.5"
  }
 },
 "nbformat": 4,
 "nbformat_minor": 5
}
